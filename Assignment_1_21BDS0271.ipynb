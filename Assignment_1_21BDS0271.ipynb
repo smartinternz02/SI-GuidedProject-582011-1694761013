{
  "nbformat": 4,
  "nbformat_minor": 0,
  "metadata": {
    "colab": {
      "provenance": []
    },
    "kernelspec": {
      "name": "python3",
      "display_name": "Python 3"
    },
    "language_info": {
      "name": "python"
    }
  },
  "cells": [
    {
      "cell_type": "code",
      "execution_count": 2,
      "metadata": {
        "id": "vySMgSWces5Q"
      },
      "outputs": [],
      "source": [
        "import pandas as pd\n",
        "import numpy as np"
      ]
    },
    {
      "cell_type": "markdown",
      "source": [
        "**Task - 1** Create a pandas dataframe (DataFrame name as 'df') (10 observation and 5 features)"
      ],
      "metadata": {
        "id": "ciaqS-07e79M"
      }
    },
    {
      "cell_type": "code",
      "source": [
        "df = pd.DataFrame([['Ashish','21BDS0271',93,99,96],\n",
        "                  ['Harsh','21BDS0272',89,78,92],\n",
        "                  ['Ritesh','21BDS0227',94,90,92],\n",
        "                  ['Dhruv','21BDS0223',78,85,89],\n",
        "                  ['Raaga','21BDS0265',65,47,72],\n",
        "                  ['Saksham','21BDS0165',78,72,80],\n",
        "                  ['Kshitiz','21BDS0339',94,np.nan,92],\n",
        "                  ['Akshit','21BCE2024',79,61,72],\n",
        "                  ['Navya','21BCE0224',90,85,92],\n",
        "                  ['Swaraj','21BCE0345',83,79,80]])\n",
        "df.columns = ['Name','Reg.No','Marks 1','Marks 2','Marks 3']\n",
        "print(df)"
      ],
      "metadata": {
        "colab": {
          "base_uri": "https://localhost:8080/"
        },
        "id": "WqZjcnbffC7Q",
        "outputId": "c92dd503-8069-4e42-92ac-9950cc119eec"
      },
      "execution_count": 9,
      "outputs": [
        {
          "output_type": "stream",
          "name": "stdout",
          "text": [
            "      Name     Reg.No  Marks 1  Marks 2  Marks 3\n",
            "0   Ashish  21BDS0271       93     99.0       96\n",
            "1    Harsh  21BDS0272       89     78.0       92\n",
            "2   Ritesh  21BDS0227       94     90.0       92\n",
            "3    Dhruv  21BDS0223       78     85.0       89\n",
            "4    Raaga  21BDS0265       65     47.0       72\n",
            "5  Saksham  21BDS0165       78     72.0       80\n",
            "6  Kshitiz  21BDS0339       94      NaN       92\n",
            "7   Akshit  21BCE2024       79     61.0       72\n",
            "8    Navya  21BCE0224       90     85.0       92\n",
            "9   Swaraj  21BCE0345       83     79.0       80\n"
          ]
        }
      ]
    },
    {
      "cell_type": "markdown",
      "source": [
        "**Task- 2** Check the info of 'df'"
      ],
      "metadata": {
        "id": "LJ2uvWyxh45n"
      }
    },
    {
      "cell_type": "code",
      "source": [
        "print(df.info())"
      ],
      "metadata": {
        "colab": {
          "base_uri": "https://localhost:8080/"
        },
        "id": "jMT-1qhnh_-h",
        "outputId": "5fe85923-9f34-467f-ba5b-b8079dd853ca"
      },
      "execution_count": 10,
      "outputs": [
        {
          "output_type": "stream",
          "name": "stdout",
          "text": [
            "<class 'pandas.core.frame.DataFrame'>\n",
            "RangeIndex: 10 entries, 0 to 9\n",
            "Data columns (total 5 columns):\n",
            " #   Column   Non-Null Count  Dtype  \n",
            "---  ------   --------------  -----  \n",
            " 0   Name     10 non-null     object \n",
            " 1   Reg.No   10 non-null     object \n",
            " 2   Marks 1  10 non-null     int64  \n",
            " 3   Marks 2  9 non-null      float64\n",
            " 4   Marks 3  10 non-null     int64  \n",
            "dtypes: float64(1), int64(2), object(2)\n",
            "memory usage: 528.0+ bytes\n",
            "None\n"
          ]
        }
      ]
    },
    {
      "cell_type": "markdown",
      "source": [
        "**Task- 3** Check the descriptive statistics of 'df'"
      ],
      "metadata": {
        "id": "f7fey4CRiL1h"
      }
    },
    {
      "cell_type": "code",
      "source": [
        "print(df.describe())"
      ],
      "metadata": {
        "colab": {
          "base_uri": "https://localhost:8080/"
        },
        "id": "ekmhrcVZiREi",
        "outputId": "5e175808-f7a1-40dc-853b-450c41319d8d"
      },
      "execution_count": 11,
      "outputs": [
        {
          "output_type": "stream",
          "name": "stdout",
          "text": [
            "        Marks 1    Marks 2    Marks 3\n",
            "count  10.00000   9.000000  10.000000\n",
            "mean   84.30000  77.333333  85.700000\n",
            "std     9.42868  15.676415   8.920015\n",
            "min    65.00000  47.000000  72.000000\n",
            "25%    78.25000  72.000000  80.000000\n",
            "50%    86.00000  79.000000  90.500000\n",
            "75%    92.25000  85.000000  92.000000\n",
            "max    94.00000  99.000000  96.000000\n"
          ]
        }
      ]
    },
    {
      "cell_type": "markdown",
      "source": [
        "**Task- 4** check the 4th index observation with 'loc' slicing operator."
      ],
      "metadata": {
        "id": "R5TFsuswiXOw"
      }
    },
    {
      "cell_type": "code",
      "source": [
        "print(df.loc[4])"
      ],
      "metadata": {
        "colab": {
          "base_uri": "https://localhost:8080/"
        },
        "id": "LwzTg7Hqia7M",
        "outputId": "2169072f-4f13-4cf4-aa84-3d018f5f9fb1"
      },
      "execution_count": 14,
      "outputs": [
        {
          "output_type": "stream",
          "name": "stdout",
          "text": [
            "Name           Raaga\n",
            "Reg.No     21BDS0265\n",
            "Marks 1           65\n",
            "Marks 2         47.0\n",
            "Marks 3           72\n",
            "Name: 4, dtype: object\n"
          ]
        }
      ]
    },
    {
      "cell_type": "markdown",
      "source": [
        "**Task- 5** Check the null values in your 'df'"
      ],
      "metadata": {
        "id": "oHgrHLYeiuLy"
      }
    },
    {
      "cell_type": "code",
      "source": [
        "print(df.isnull().any())"
      ],
      "metadata": {
        "colab": {
          "base_uri": "https://localhost:8080/"
        },
        "id": "Aab333HwiyRK",
        "outputId": "1b5432c0-28e7-4fa9-ec15-d60515fa6df7"
      },
      "execution_count": 15,
      "outputs": [
        {
          "output_type": "stream",
          "name": "stdout",
          "text": [
            "Name       False\n",
            "Reg.No     False\n",
            "Marks 1    False\n",
            "Marks 2     True\n",
            "Marks 3    False\n",
            "dtype: bool\n"
          ]
        }
      ]
    }
  ]
}